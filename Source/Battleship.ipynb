{
 "cells": [
  {
   "cell_type": "code",
   "execution_count": 147,
   "metadata": {},
   "outputs": [],
   "source": [
    "import numpy as np"
   ]
  },
  {
   "cell_type": "code",
   "execution_count": 250,
   "metadata": {},
   "outputs": [
    {
     "name": "stdout",
     "output_type": "stream",
     "text": [
      "5\n",
      "attempt\n",
      "4\n",
      "attempt\n",
      "3\n",
      "attempt\n",
      "3\n",
      "attempt\n",
      "2\n",
      "attempt\n",
      "attempt\n"
     ]
    }
   ],
   "source": [
    "# clear the board\n",
    "dim = 10\n",
    "board = np.zeros((dim, dim), dtype=int)\n",
    "\n",
    "# randomly place ships on the board\n",
    "ship_lengths = [5, 4, 3, 3, 2]\n",
    "\n",
    "\n",
    "# for each ship\n",
    "for ship_length in ship_lengths:\n",
    "    is_ship_placed = False\n",
    "    print(ship_length)\n",
    "    \n",
    "    while not is_ship_placed:\n",
    "        print('attempt')\n",
    "        # seed a coordinate for the head of a ship\n",
    "        head = tuple(np.random.randint(dim, size=2))\n",
    "\n",
    "        # choose a direction for the ship to be laid out\n",
    "        # N=0, S=1, E=2, W=3\n",
    "        heading = np.random.randint(4)\n",
    "\n",
    "        # check that the ship does not hang off the edge of the board\n",
    "        if heading == 0:\n",
    "            tail = (head[0] - ship_length + 1, head[1])\n",
    "        elif heading == 1:\n",
    "            tail = (head[0] + ship_length - 1, head[1])\n",
    "        elif heading == 2:\n",
    "            tail = (head[0], head[1] + ship_length - 1)\n",
    "        elif heading == 3:\n",
    "            tail = (head[0], head[1] - ship_length + 1)\n",
    "    \n",
    "        if not ((0 <= tail[0] <= dim-1) and (0 <= tail[1] <= dim-1)):\n",
    "            continue\n",
    "\n",
    "        # check that the ship does not overlap with any others\n",
    "        NS_min = min(head[0],tail[0])\n",
    "        NS_max = max(head[0],tail[0])\n",
    "        EW_min = min(head[1],tail[1])\n",
    "        EW_max = max(head[1],tail[1])\n",
    "        \n",
    "        if sum(sum(board[NS_min:NS_max+1,EW_min:EW_max+1])) != 0:\n",
    "            continue\n",
    "    \n",
    "        # place the ship\n",
    "        board[NS_min:NS_max+1,EW_min:EW_max+1] = 1\n",
    "        is_ship_placed = True"
   ]
  },
  {
   "cell_type": "code",
   "execution_count": 251,
   "metadata": {},
   "outputs": [
    {
     "data": {
      "text/plain": [
       "array([[1, 0, 0, 0, 1, 0, 0, 0, 0, 0],\n",
       "       [1, 0, 0, 0, 1, 0, 0, 0, 0, 0],\n",
       "       [1, 0, 0, 0, 1, 0, 0, 0, 0, 0],\n",
       "       [0, 0, 0, 0, 0, 0, 1, 0, 0, 0],\n",
       "       [0, 0, 0, 0, 0, 0, 1, 0, 0, 0],\n",
       "       [0, 0, 0, 0, 0, 0, 1, 0, 0, 0],\n",
       "       [0, 0, 0, 0, 0, 0, 1, 0, 1, 1],\n",
       "       [0, 0, 0, 0, 0, 0, 0, 0, 0, 0],\n",
       "       [0, 0, 0, 1, 1, 1, 1, 1, 0, 0],\n",
       "       [0, 0, 0, 0, 0, 0, 0, 0, 0, 0]])"
      ]
     },
     "execution_count": 251,
     "metadata": {},
     "output_type": "execute_result"
    }
   ],
   "source": [
    "board"
   ]
  },
  {
   "cell_type": "code",
   "execution_count": 247,
   "metadata": {},
   "outputs": [
    {
     "name": "stdout",
     "output_type": "stream",
     "text": [
      "17\n",
      "17\n"
     ]
    }
   ],
   "source": [
    "print(sum(ship_lengths))\n",
    "print(sum(sum(board)))"
   ]
  },
  {
   "cell_type": "code",
   "execution_count": 34,
   "metadata": {},
   "outputs": [],
   "source": [
    "# genetic algorithm\n",
    "# represent board in genetic form\n",
    "\n",
    "# initialize"
   ]
  },
  {
   "cell_type": "code",
   "execution_count": 2,
   "metadata": {},
   "outputs": [],
   "source": [
    "# select"
   ]
  },
  {
   "cell_type": "code",
   "execution_count": 3,
   "metadata": {},
   "outputs": [],
   "source": [
    "# operate"
   ]
  },
  {
   "cell_type": "code",
   "execution_count": 4,
   "metadata": {},
   "outputs": [],
   "source": [
    "# terminate"
   ]
  },
  {
   "cell_type": "code",
   "execution_count": 5,
   "metadata": {},
   "outputs": [],
   "source": [
    "# heuristics"
   ]
  },
  {
   "cell_type": "code",
   "execution_count": null,
   "metadata": {},
   "outputs": [],
   "source": []
  }
 ],
 "metadata": {
  "kernelspec": {
   "display_name": "Python 3",
   "language": "python",
   "name": "python3"
  },
  "language_info": {
   "codemirror_mode": {
    "name": "ipython",
    "version": 3
   },
   "file_extension": ".py",
   "mimetype": "text/x-python",
   "name": "python",
   "nbconvert_exporter": "python",
   "pygments_lexer": "ipython3",
   "version": "3.7.1"
  }
 },
 "nbformat": 4,
 "nbformat_minor": 2
}
