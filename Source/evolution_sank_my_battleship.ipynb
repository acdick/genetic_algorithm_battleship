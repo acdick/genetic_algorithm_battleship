{
 "cells": [
  {
   "cell_type": "code",
   "execution_count": 1,
   "metadata": {},
   "outputs": [],
   "source": [
    "import battleship as ship\n",
    "import genetic_algorithm as ga\n",
    "\n",
    "import pandas as pd\n",
    "import numpy as np\n",
    "import seaborn as sns\n",
    "import matplotlib.pyplot as plt"
   ]
  },
  {
   "cell_type": "code",
   "execution_count": 2,
   "metadata": {},
   "outputs": [
    {
     "name": "stdout",
     "output_type": "stream",
     "text": [
      "Correct number of pieces on board\n",
      "0000000000000100000001010000000101000000010100000000000011000000000000001110000000000000000000111110\n"
     ]
    },
    {
     "data": {
      "text/plain": [
       "Text(0.5, 1.0, 'Battleship Board')"
      ]
     },
     "execution_count": 2,
     "metadata": {},
     "output_type": "execute_result"
    },
    {
     "data": {
      "image/png": "[encoded data removed]",
      "text/plain": [
       "<Figure size 720x576 with 1 Axes>"
      ]
     },
     "metadata": {
      "needs_background": "light"
     },
     "output_type": "display_data"
    }
   ],
   "source": [
    "#create a new board and solution\n",
    "board, solution = ship.new_board()\n",
    "\n",
    "# print the genetic solution\n",
    "print(solution)\n",
    "\n",
    "# add the board to a dataframe for plotting\n",
    "df = pd.DataFrame(board, columns=['A','B','C','D','E','F','G','H','I','J',])\n",
    "df['ylabel'] = range(10,0,-1)\n",
    "df = df.set_index('ylabel')\n",
    "\n",
    "# print the board using a heatmap\n",
    "fig, ax = plt.subplots(1, 1, figsize = (10, 8))\n",
    "sns.heatmap(df, cmap='coolwarm', linewidths=0.5, annot=True, fmt='d', cbar=False)\n",
    "ax.set_ylabel('')    \n",
    "ax.set_xlabel('')\n",
    "ax.set_title('Battleship Board')"
   ]
  },
  {
   "cell_type": "code",
   "execution_count": 3,
   "metadata": {},
   "outputs": [
    {
     "data": {
      "text/html": [
       "<div>\n",
       "<style scoped>\n",
       "    .dataframe tbody tr th:only-of-type {\n",
       "        vertical-align: middle;\n",
       "    }\n",
       "\n",
       "    .dataframe tbody tr th {\n",
       "        vertical-align: top;\n",
       "    }\n",
       "\n",
       "    .dataframe thead th {\n",
       "        text-align: right;\n",
       "    }\n",
       "</style>\n",
       "<table border=\"1\" class=\"dataframe\">\n",
       "  <thead>\n",
       "    <tr style=\"text-align: right;\">\n",
       "      <th></th>\n",
       "      <th>Sequence</th>\n",
       "      <th>Chromosome</th>\n",
       "      <th>Generation</th>\n",
       "      <th>Birth</th>\n",
       "      <th>Fitness</th>\n",
       "      <th>Parents</th>\n",
       "      <th>Elite</th>\n",
       "    </tr>\n",
       "  </thead>\n",
       "  <tbody>\n",
       "    <tr>\n",
       "      <th>5</th>\n",
       "      <td>6</td>\n",
       "      <td>1001011010100111011011011010110100100010011110...</td>\n",
       "      <td>1</td>\n",
       "      <td>Random</td>\n",
       "      <td>0.59</td>\n",
       "      <td>0</td>\n",
       "      <td>True</td>\n",
       "    </tr>\n",
       "    <tr>\n",
       "      <th>2</th>\n",
       "      <td>3</td>\n",
       "      <td>0000110000100000110110100111100101001001010101...</td>\n",
       "      <td>1</td>\n",
       "      <td>Random</td>\n",
       "      <td>0.57</td>\n",
       "      <td>0</td>\n",
       "      <td>True</td>\n",
       "    </tr>\n",
       "    <tr>\n",
       "      <th>9</th>\n",
       "      <td>10</td>\n",
       "      <td>0110000111100111011011000110101101000011000101...</td>\n",
       "      <td>1</td>\n",
       "      <td>Random</td>\n",
       "      <td>0.52</td>\n",
       "      <td>0</td>\n",
       "      <td>False</td>\n",
       "    </tr>\n",
       "    <tr>\n",
       "      <th>6</th>\n",
       "      <td>7</td>\n",
       "      <td>1101000000010011110101110000111111111100111111...</td>\n",
       "      <td>1</td>\n",
       "      <td>Random</td>\n",
       "      <td>0.50</td>\n",
       "      <td>0</td>\n",
       "      <td>False</td>\n",
       "    </tr>\n",
       "    <tr>\n",
       "      <th>7</th>\n",
       "      <td>8</td>\n",
       "      <td>1101100011100101010110101011101000110100111110...</td>\n",
       "      <td>1</td>\n",
       "      <td>Random</td>\n",
       "      <td>0.50</td>\n",
       "      <td>0</td>\n",
       "      <td>False</td>\n",
       "    </tr>\n",
       "    <tr>\n",
       "      <th>0</th>\n",
       "      <td>1</td>\n",
       "      <td>1100110111110001110110101010101101111100000011...</td>\n",
       "      <td>1</td>\n",
       "      <td>Random</td>\n",
       "      <td>0.49</td>\n",
       "      <td>0</td>\n",
       "      <td>False</td>\n",
       "    </tr>\n",
       "    <tr>\n",
       "      <th>1</th>\n",
       "      <td>2</td>\n",
       "      <td>1100110010110100001010111010010011110010100111...</td>\n",
       "      <td>1</td>\n",
       "      <td>Random</td>\n",
       "      <td>0.49</td>\n",
       "      <td>0</td>\n",
       "      <td>False</td>\n",
       "    </tr>\n",
       "    <tr>\n",
       "      <th>4</th>\n",
       "      <td>5</td>\n",
       "      <td>1001110011000111111111110111001100010100001110...</td>\n",
       "      <td>1</td>\n",
       "      <td>Random</td>\n",
       "      <td>0.49</td>\n",
       "      <td>0</td>\n",
       "      <td>False</td>\n",
       "    </tr>\n",
       "    <tr>\n",
       "      <th>8</th>\n",
       "      <td>9</td>\n",
       "      <td>0110000010100011110011100000010000111010010011...</td>\n",
       "      <td>1</td>\n",
       "      <td>Random</td>\n",
       "      <td>0.47</td>\n",
       "      <td>0</td>\n",
       "      <td>False</td>\n",
       "    </tr>\n",
       "    <tr>\n",
       "      <th>3</th>\n",
       "      <td>4</td>\n",
       "      <td>1101111010111100001101101101011010110000010110...</td>\n",
       "      <td>1</td>\n",
       "      <td>Random</td>\n",
       "      <td>0.46</td>\n",
       "      <td>0</td>\n",
       "      <td>False</td>\n",
       "    </tr>\n",
       "  </tbody>\n",
       "</table>\n",
       "</div>"
      ],
      "text/plain": [
       "  Sequence                                         Chromosome Generation  \\\n",
       "5        6  1001011010100111011011011010110100100010011110...          1   \n",
       "2        3  0000110000100000110110100111100101001001010101...          1   \n",
       "9       10  0110000111100111011011000110101101000011000101...          1   \n",
       "6        7  1101000000010011110101110000111111111100111111...          1   \n",
       "7        8  1101100011100101010110101011101000110100111110...          1   \n",
       "0        1  1100110111110001110110101010101101111100000011...          1   \n",
       "1        2  1100110010110100001010111010010011110010100111...          1   \n",
       "4        5  1001110011000111111111110111001100010100001110...          1   \n",
       "8        9  0110000010100011110011100000010000111010010011...          1   \n",
       "3        4  1101111010111100001101101101011010110000010110...          1   \n",
       "\n",
       "    Birth  Fitness Parents  Elite  \n",
       "5  Random     0.59       0   True  \n",
       "2  Random     0.57       0   True  \n",
       "9  Random     0.52       0  False  \n",
       "6  Random     0.50       0  False  \n",
       "7  Random     0.50       0  False  \n",
       "0  Random     0.49       0  False  \n",
       "1  Random     0.49       0  False  \n",
       "4  Random     0.49       0  False  \n",
       "8  Random     0.47       0  False  \n",
       "3  Random     0.46       0  False  "
      ]
     },
     "execution_count": 3,
     "metadata": {},
     "output_type": "execute_result"
    }
   ],
   "source": [
    "# initialize the first random generation\n",
    "generation_size = 10\n",
    "gene_pool = ga.random_generation(generation_size, 100)\n",
    "\n",
    "# compare fitness\n",
    "gene_pool['Fitness'] = gene_pool.apply(lambda row: ship.accuracy(row.Chromosome, solution), axis=1)\n",
    "\n",
    "# assign elites with elite rate\n",
    "elite_rate = 0.20\n",
    "gene_pool = ga.assign_elites(gene_pool, elite_rate)\n",
    "gene_pool"
   ]
  },
  {
   "cell_type": "code",
   "execution_count": null,
   "metadata": {},
   "outputs": [],
   "source": [
    "gene_pool.describe()"
   ]
  },
  {
   "cell_type": "code",
   "execution_count": 4,
   "metadata": {},
   "outputs": [
    {
     "name": "stdout",
     "output_type": "stream",
     "text": [
      "2\n"
     ]
    },
    {
     "data": {
      "text/html": [
       "<div>\n",
       "<style scoped>\n",
       "    .dataframe tbody tr th:only-of-type {\n",
       "        vertical-align: middle;\n",
       "    }\n",
       "\n",
       "    .dataframe tbody tr th {\n",
       "        vertical-align: top;\n",
       "    }\n",
       "\n",
       "    .dataframe thead th {\n",
       "        text-align: right;\n",
       "    }\n",
       "</style>\n",
       "<table border=\"1\" class=\"dataframe\">\n",
       "  <thead>\n",
       "    <tr style=\"text-align: right;\">\n",
       "      <th></th>\n",
       "      <th>Sequence</th>\n",
       "      <th>Chromosome</th>\n",
       "      <th>Generation</th>\n",
       "      <th>Birth</th>\n",
       "      <th>Fitness</th>\n",
       "      <th>Parents</th>\n",
       "      <th>Elite</th>\n",
       "    </tr>\n",
       "  </thead>\n",
       "  <tbody>\n",
       "    <tr>\n",
       "      <th>0</th>\n",
       "      <td>11</td>\n",
       "      <td>1001011010100111011011011010110100100010011110...</td>\n",
       "      <td>2</td>\n",
       "      <td>Elitism</td>\n",
       "      <td>0.59</td>\n",
       "      <td>6</td>\n",
       "      <td>False</td>\n",
       "    </tr>\n",
       "    <tr>\n",
       "      <th>1</th>\n",
       "      <td>12</td>\n",
       "      <td>0000110000100000110110100111100101001001010101...</td>\n",
       "      <td>2</td>\n",
       "      <td>Elitism</td>\n",
       "      <td>0.57</td>\n",
       "      <td>3</td>\n",
       "      <td>False</td>\n",
       "    </tr>\n",
       "    <tr>\n",
       "      <th>2</th>\n",
       "      <td>13</td>\n",
       "      <td>0000111000100000110110100111100101001011010101...</td>\n",
       "      <td>2</td>\n",
       "      <td>Mutation</td>\n",
       "      <td>0.54</td>\n",
       "      <td>12</td>\n",
       "      <td>False</td>\n",
       "    </tr>\n",
       "    <tr>\n",
       "      <th>3</th>\n",
       "      <td>14</td>\n",
       "      <td>1001011010100111011111111010110110100010111110...</td>\n",
       "      <td>2</td>\n",
       "      <td>Mutation</td>\n",
       "      <td>0.54</td>\n",
       "      <td>11</td>\n",
       "      <td>False</td>\n",
       "    </tr>\n",
       "  </tbody>\n",
       "</table>\n",
       "</div>"
      ],
      "text/plain": [
       "   Sequence                                         Chromosome  Generation  \\\n",
       "0        11  1001011010100111011011011010110100100010011110...           2   \n",
       "1        12  0000110000100000110110100111100101001001010101...           2   \n",
       "2        13  0000111000100000110110100111100101001011010101...           2   \n",
       "3        14  1001011010100111011111111010110110100010111110...           2   \n",
       "\n",
       "      Birth  Fitness Parents  Elite  \n",
       "0   Elitism     0.59       6  False  \n",
       "1   Elitism     0.57       3  False  \n",
       "2  Mutation     0.54      12  False  \n",
       "3  Mutation     0.54      11  False  "
      ]
     },
     "execution_count": 4,
     "metadata": {},
     "output_type": "execute_result"
    }
   ],
   "source": [
    "# select elites with elite rate\n",
    "next_generation = ga.select_elites(gene_pool)\n",
    "\n",
    "# determine number of mutants in generation\n",
    "mutant_rate = 0.20\n",
    "n_mutants = int(mutant_rate * generation_size)\n",
    "\n",
    "# add mutants to generation\n",
    "bit_flip_rate = 0.05\n",
    "next_generation = ga.create_mutants(next_generation, n_mutants, bit_flip_rate)\n",
    "\n",
    "# compare fitness\n",
    "next_generation['Fitness'] = next_generation.apply(lambda row: ship.accuracy(row.Chromosome, solution), axis=1)\n",
    "next_generation"
   ]
  },
  {
   "cell_type": "code",
   "execution_count": 6,
   "metadata": {},
   "outputs": [
    {
     "name": "stdout",
     "output_type": "stream",
     "text": [
      "0000110000100000110110100111100101001001010101100001001010001101000101000001101101000100010100000000\n",
      "0000111000100000110110100111100101001011010101100001001010001101000101000001101101101100010000000000\n"
     ]
    }
   ],
   "source": [
    "print(next_generation['Chromosome'][1])\n",
    "print(next_generation['Chromosome'][2])"
   ]
  },
  {
   "cell_type": "code",
   "execution_count": null,
   "metadata": {},
   "outputs": [],
   "source": [
    "gene_pool = gene_pool.append(next_generation)\n",
    "gene_pool"
   ]
  },
  {
   "cell_type": "code",
   "execution_count": null,
   "metadata": {},
   "outputs": [],
   "source": [
    "# terminate"
   ]
  },
  {
   "cell_type": "code",
   "execution_count": null,
   "metadata": {},
   "outputs": [],
   "source": [
    "# heuristics"
   ]
  },
  {
   "cell_type": "code",
   "execution_count": null,
   "metadata": {},
   "outputs": [],
   "source": []
  }
 ],
 "metadata": {
  "kernelspec": {
   "display_name": "Python 3",
   "language": "python",
   "name": "python3"
  },
  "language_info": {
   "codemirror_mode": {
    "name": "ipython",
    "version": 3
   },
   "file_extension": ".py",
   "mimetype": "text/x-python",
   "name": "python",
   "nbconvert_exporter": "python",
   "pygments_lexer": "ipython3",
   "version": "3.7.1"
  }
 },
 "nbformat": 4,
 "nbformat_minor": 2
}
